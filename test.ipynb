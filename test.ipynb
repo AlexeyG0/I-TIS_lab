{
 "cells": [
  {
   "cell_type": "code",
   "execution_count": 1,
   "metadata": {},
   "outputs": [],
   "source": [
    "import requests\n",
    "from API import API_key"
   ]
  },
  {
   "cell_type": "markdown",
   "metadata": {},
   "source": [
    "http://api.openweathermap.org/geo/1.0/direct?q={city name},{state code},{country code}&limit={limit}&appid={API key}\n",
    "\n",
    "\n",
    "http://api.openweathermap.org/geo/1.0/direct?q=London&limit=5&appid={API key}"
   ]
  },
  {
   "cell_type": "markdown",
   "metadata": {},
   "source": []
  },
  {
   "cell_type": "markdown",
   "metadata": {},
   "source": [
    "'lat': 44.5609447, 'lon': 38.0766832"
   ]
  },
  {
   "cell_type": "code",
   "execution_count": 5,
   "metadata": {},
   "outputs": [],
   "source": [
    "# URL API\n",
    "url_geo = \"http://api.openweathermap.org/geo/1.0/direct\"\n",
    "url_weather = \"https://api.openweathermap.org/data/2.5/weather\"\n",
    "\n",
    "City = 'Gelendzhik'\n",
    "param_weather = {\n",
    "    \"lat\": 44.5609447, \n",
    "    \"lon\": 38.0766832,\n",
    "    \"appid\": API_key,\n",
    "    \"units\": 'metric',\n",
    "}\n",
    "\n",
    "param_geo = {\n",
    "    \"q\": City,\n",
    "    \"limit\": 5,\n",
    "    \"appid\": API_key\n",
    "}"
   ]
  },
  {
   "cell_type": "code",
   "execution_count": 7,
   "metadata": {},
   "outputs": [],
   "source": [
    "response = requests.get(url_weather, params=param_weather)"
   ]
  },
  {
   "cell_type": "code",
   "execution_count": 13,
   "metadata": {},
   "outputs": [],
   "source": [
    "response = requests.get(f'https://api.openweathermap.org/data/2.5/weather?lat=44.5609447&lon=38.0766832&appid={API_key}')"
   ]
  },
  {
   "cell_type": "code",
   "execution_count": 8,
   "metadata": {},
   "outputs": [
    {
     "name": "stdout",
     "output_type": "stream",
     "text": [
      "{'coord': {'lon': 38.0767, 'lat': 44.5609}, 'weather': [{'id': 804, 'main': 'Clouds', 'description': 'overcast clouds', 'icon': '04n'}], 'base': 'stations', 'main': {'temp': 11.34, 'feels_like': 10.62, 'temp_min': 11.34, 'temp_max': 11.34, 'pressure': 1024, 'humidity': 80, 'sea_level': 1024, 'grnd_level': 1010}, 'visibility': 10000, 'wind': {'speed': 1.87, 'deg': 13, 'gust': 1.59}, 'clouds': {'all': 93}, 'dt': 1731509374, 'sys': {'country': 'RU', 'sunrise': 1731471708, 'sunset': 1731506544}, 'timezone': 10800, 'id': 561667, 'name': 'Gelendzhik', 'cod': 200}\n"
     ]
    }
   ],
   "source": [
    "if response.status_code == 200:\n",
    "    # Вывод JSON-ответа\n",
    "    data = response.json()\n",
    "    print(data)\n",
    "else:\n",
    "    print(f\"Ошибка {response.status_code}: {response.text}\")"
   ]
  },
  {
   "cell_type": "code",
   "execution_count": null,
   "metadata": {},
   "outputs": [],
   "source": [
    "import requests\n",
    "\n",
    "def get_coordinates(city_name, country_code, api_key, limit=1):\n",
    "    url = f\"http://api.openweathermap.org/geo/1.0/direct\"\n",
    "    params = {\n",
    "        \"q\": f\"{city_name},{country_code}\",\n",
    "        \"limit\": limit,\n",
    "        \"appid\": api_key\n",
    "    }\n",
    "    response = requests.get(url, params=params)\n",
    "    response.raise_for_status()\n",
    "    return response.json()\n",
    "\n",
    "\n",
    "def get_weather(lat, lon, api_key, units=\"metric\"):\n",
    "    url = f\"https://api.openweathermap.org/data/2.5/weather\"\n",
    "    params = {\n",
    "        \"lat\": lat,\n",
    "        \"lon\": lon,\n",
    "        \"appid\": api_key,\n",
    "        \"units\": units\n",
    "    }\n",
    "    response = requests.get(url, params=params)\n",
    "    response.raise_for_status()\n",
    "    return response.json()"
   ]
  },
  {
   "cell_type": "code",
   "execution_count": null,
   "metadata": {},
   "outputs": [],
   "source": [
    "city_name = response['name']  # Название города\n",
    "country = response['sys']['country']  # Страна\n",
    "temperature = response['main']['temp']  # Температура\n",
    "feels_like = response['main']['feels_like']  # Ощущаемая температура\n",
    "humidity = response['main']['humidity']  # Влажность\n",
    "weather_description = response['weather'][0]['description']  # Описание погоды\n",
    "wind_speed = response['wind']['speed']  # Скорость ветра"
   ]
  },
  {
   "cell_type": "code",
   "execution_count": null,
   "metadata": {},
   "outputs": [],
   "source": []
  }
 ],
 "metadata": {
  "kernelspec": {
   "display_name": "one",
   "language": "python",
   "name": "python3"
  },
  "language_info": {
   "codemirror_mode": {
    "name": "ipython",
    "version": 3
   },
   "file_extension": ".py",
   "mimetype": "text/x-python",
   "name": "python",
   "nbconvert_exporter": "python",
   "pygments_lexer": "ipython3",
   "version": "3.12.4"
  }
 },
 "nbformat": 4,
 "nbformat_minor": 2
}
